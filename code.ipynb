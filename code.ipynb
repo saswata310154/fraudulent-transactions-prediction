{
 "cells": [
  {
   "cell_type": "code",
   "execution_count": 8,
   "id": "dd1bc810-08fb-4a6c-984f-8d064cb93565",
   "metadata": {},
   "outputs": [],
   "source": [
    "import pandas as pd\n",
    "import numpy as np\n",
    "import matplotlib.pyplot as plt\n",
    "import seaborn as sns\n",
    "\n",
    "from sklearn.model_selection import train_test_split\n",
    "from sklearn.ensemble import RandomForestClassifier\n",
    "from sklearn.metrics import classification_report, confusion_matrix, roc_auc_score, roc_curve\n",
    "from sklearn.preprocessing import LabelEncoder, StandardScaler\n"
   ]
  },
  {
   "cell_type": "markdown",
   "id": "4955bf91-abdb-44e5-8a80-289ff44859d9",
   "metadata": {},
   "source": [
    "## Dataset Loading"
   ]
  },
  {
   "cell_type": "code",
   "execution_count": 10,
   "id": "9a2a7636-2c72-40da-a2be-00c66324872c",
   "metadata": {},
   "outputs": [
    {
     "data": {
      "text/html": [
       "<div>\n",
       "<style scoped>\n",
       "    .dataframe tbody tr th:only-of-type {\n",
       "        vertical-align: middle;\n",
       "    }\n",
       "\n",
       "    .dataframe tbody tr th {\n",
       "        vertical-align: top;\n",
       "    }\n",
       "\n",
       "    .dataframe thead th {\n",
       "        text-align: right;\n",
       "    }\n",
       "</style>\n",
       "<table border=\"1\" class=\"dataframe\">\n",
       "  <thead>\n",
       "    <tr style=\"text-align: right;\">\n",
       "      <th></th>\n",
       "      <th>step</th>\n",
       "      <th>type</th>\n",
       "      <th>amount</th>\n",
       "      <th>nameOrig</th>\n",
       "      <th>oldbalanceOrg</th>\n",
       "      <th>newbalanceOrig</th>\n",
       "      <th>nameDest</th>\n",
       "      <th>oldbalanceDest</th>\n",
       "      <th>newbalanceDest</th>\n",
       "      <th>isFraud</th>\n",
       "      <th>isFlaggedFraud</th>\n",
       "    </tr>\n",
       "  </thead>\n",
       "  <tbody>\n",
       "    <tr>\n",
       "      <th>0</th>\n",
       "      <td>1</td>\n",
       "      <td>PAYMENT</td>\n",
       "      <td>9839.64</td>\n",
       "      <td>C1231006815</td>\n",
       "      <td>170136.0</td>\n",
       "      <td>160296.36</td>\n",
       "      <td>M1979787155</td>\n",
       "      <td>0.0</td>\n",
       "      <td>0.0</td>\n",
       "      <td>0</td>\n",
       "      <td>0</td>\n",
       "    </tr>\n",
       "    <tr>\n",
       "      <th>1</th>\n",
       "      <td>1</td>\n",
       "      <td>PAYMENT</td>\n",
       "      <td>1864.28</td>\n",
       "      <td>C1666544295</td>\n",
       "      <td>21249.0</td>\n",
       "      <td>19384.72</td>\n",
       "      <td>M2044282225</td>\n",
       "      <td>0.0</td>\n",
       "      <td>0.0</td>\n",
       "      <td>0</td>\n",
       "      <td>0</td>\n",
       "    </tr>\n",
       "    <tr>\n",
       "      <th>2</th>\n",
       "      <td>1</td>\n",
       "      <td>TRANSFER</td>\n",
       "      <td>181.00</td>\n",
       "      <td>C1305486145</td>\n",
       "      <td>181.0</td>\n",
       "      <td>0.00</td>\n",
       "      <td>C553264065</td>\n",
       "      <td>0.0</td>\n",
       "      <td>0.0</td>\n",
       "      <td>1</td>\n",
       "      <td>0</td>\n",
       "    </tr>\n",
       "    <tr>\n",
       "      <th>3</th>\n",
       "      <td>1</td>\n",
       "      <td>CASH_OUT</td>\n",
       "      <td>181.00</td>\n",
       "      <td>C840083671</td>\n",
       "      <td>181.0</td>\n",
       "      <td>0.00</td>\n",
       "      <td>C38997010</td>\n",
       "      <td>21182.0</td>\n",
       "      <td>0.0</td>\n",
       "      <td>1</td>\n",
       "      <td>0</td>\n",
       "    </tr>\n",
       "    <tr>\n",
       "      <th>4</th>\n",
       "      <td>1</td>\n",
       "      <td>PAYMENT</td>\n",
       "      <td>11668.14</td>\n",
       "      <td>C2048537720</td>\n",
       "      <td>41554.0</td>\n",
       "      <td>29885.86</td>\n",
       "      <td>M1230701703</td>\n",
       "      <td>0.0</td>\n",
       "      <td>0.0</td>\n",
       "      <td>0</td>\n",
       "      <td>0</td>\n",
       "    </tr>\n",
       "  </tbody>\n",
       "</table>\n",
       "</div>"
      ],
      "text/plain": [
       "   step      type    amount     nameOrig  oldbalanceOrg  newbalanceOrig  \\\n",
       "0     1   PAYMENT   9839.64  C1231006815       170136.0       160296.36   \n",
       "1     1   PAYMENT   1864.28  C1666544295        21249.0        19384.72   \n",
       "2     1  TRANSFER    181.00  C1305486145          181.0            0.00   \n",
       "3     1  CASH_OUT    181.00   C840083671          181.0            0.00   \n",
       "4     1   PAYMENT  11668.14  C2048537720        41554.0        29885.86   \n",
       "\n",
       "      nameDest  oldbalanceDest  newbalanceDest  isFraud  isFlaggedFraud  \n",
       "0  M1979787155             0.0             0.0        0               0  \n",
       "1  M2044282225             0.0             0.0        0               0  \n",
       "2   C553264065             0.0             0.0        1               0  \n",
       "3    C38997010         21182.0             0.0        1               0  \n",
       "4  M1230701703             0.0             0.0        0               0  "
      ]
     },
     "execution_count": 10,
     "metadata": {},
     "output_type": "execute_result"
    }
   ],
   "source": [
    "df = pd.read_csv(\"Fraud.csv\")  # Replace with your actual filename\n",
    "df.head()\n"
   ]
  },
  {
   "cell_type": "markdown",
   "id": "e16804e6-8609-4a1a-8f4d-d971f3a23581",
   "metadata": {},
   "source": [
    "## Explore and  Data Cleaning"
   ]
  },
  {
   "cell_type": "code",
   "execution_count": 11,
   "id": "34446087-b970-4b73-a9bf-63aeb6f8648a",
   "metadata": {},
   "outputs": [
    {
     "name": "stdout",
     "output_type": "stream",
     "text": [
      "<class 'pandas.core.frame.DataFrame'>\n",
      "RangeIndex: 6362620 entries, 0 to 6362619\n",
      "Data columns (total 11 columns):\n",
      " #   Column          Dtype  \n",
      "---  ------          -----  \n",
      " 0   step            int64  \n",
      " 1   type            object \n",
      " 2   amount          float64\n",
      " 3   nameOrig        object \n",
      " 4   oldbalanceOrg   float64\n",
      " 5   newbalanceOrig  float64\n",
      " 6   nameDest        object \n",
      " 7   oldbalanceDest  float64\n",
      " 8   newbalanceDest  float64\n",
      " 9   isFraud         int64  \n",
      " 10  isFlaggedFraud  int64  \n",
      "dtypes: float64(5), int64(3), object(3)\n",
      "memory usage: 534.0+ MB\n"
     ]
    },
    {
     "data": {
      "text/plain": [
       "step              0\n",
       "type              0\n",
       "amount            0\n",
       "nameOrig          0\n",
       "oldbalanceOrg     0\n",
       "newbalanceOrig    0\n",
       "nameDest          0\n",
       "oldbalanceDest    0\n",
       "newbalanceDest    0\n",
       "isFraud           0\n",
       "isFlaggedFraud    0\n",
       "dtype: int64"
      ]
     },
     "execution_count": 11,
     "metadata": {},
     "output_type": "execute_result"
    }
   ],
   "source": [
    "# Check structure and missing values\n",
    "df.info()\n",
    "df.isnull().sum()\n"
   ]
  },
  {
   "cell_type": "markdown",
   "id": "60f0e7b8-8eeb-4a9a-bc21-2d5aedb5688e",
   "metadata": {},
   "source": [
    "## Drop Unnecessary Columns\n",
    "\n"
   ]
  },
  {
   "cell_type": "code",
   "execution_count": 12,
   "id": "dd8fd314-86a3-422f-9607-0617f3aa7e6a",
   "metadata": {},
   "outputs": [],
   "source": [
    "df.drop(['nameOrig', 'nameDest'], axis=1, inplace=True)\n",
    "#We drop `nameOrig` and `nameDest` because they are identifiers with no predictive value and may introduce noise into the model.\n",
    "\n"
   ]
  },
  {
   "cell_type": "markdown",
   "id": "3fcd1109-bf3f-4b72-a85d-4a535df35298",
   "metadata": {},
   "source": [
    "##  Encoding the 'type' Column"
   ]
  },
  {
   "cell_type": "code",
   "execution_count": 13,
   "id": "fe9ef119-176f-413e-a216-a70387ecbf2d",
   "metadata": {},
   "outputs": [],
   "source": [
    "from sklearn.preprocessing import LabelEncoder\n",
    "\n",
    "le = LabelEncoder()\n",
    "df['type'] = le.fit_transform(df['type'])  # Converts 'PAYMENT', 'TRANSFER', etc. to numeric codes\n"
   ]
  },
  {
   "cell_type": "markdown",
   "id": "eaea8165-8837-4ab0-894a-78e2cd254150",
   "metadata": {},
   "source": [
    "## Defining Features and Target\n",
    "\n"
   ]
  },
  {
   "cell_type": "code",
   "execution_count": 14,
   "id": "f66c3d23-d485-44d7-ba73-86579b1630be",
   "metadata": {},
   "outputs": [],
   "source": [
    "X = df.drop(['isFraud', 'isFlaggedFraud'], axis=1)  # Features\n",
    "y = df['isFraud']  # Target\n"
   ]
  },
  {
   "cell_type": "markdown",
   "id": "c17aa0f3-cfa4-4233-afde-2ba8eadf11b3",
   "metadata": {},
   "source": [
    "##  Train-Test Split"
   ]
  },
  {
   "cell_type": "code",
   "execution_count": 17,
   "id": "b9f35cb8-cfde-4f3d-8fd1-0248988b25e9",
   "metadata": {},
   "outputs": [],
   "source": [
    "from sklearn.model_selection import train_test_split\n",
    "\n",
    "X_train, X_test, y_train, y_test = train_test_split(\n",
    "    X, y, test_size=0.3, random_state=42, stratify=y)\n",
    "#Stratified split ensures both train and test sets preserve the fraud/non-fraud ratio, which is important for imbalanced classification.\n"
   ]
  },
  {
   "cell_type": "markdown",
   "id": "9f30d57c-2241-477a-a348-97dc63b0ac95",
   "metadata": {},
   "source": [
    "## Feature Scaling "
   ]
  },
  {
   "cell_type": "code",
   "execution_count": 16,
   "id": "3bf41adb-a2ca-459b-9867-4a38ac0bae41",
   "metadata": {},
   "outputs": [],
   "source": [
    "from sklearn.preprocessing import StandardScaler\n",
    "\n",
    "scaler = StandardScaler()\n",
    "X_train_scaled = scaler.fit_transform(X_train)\n",
    "X_test_scaled = scaler.transform(X_test)\n"
   ]
  },
  {
   "cell_type": "markdown",
   "id": "abb638da-89d1-405c-aeb9-e958f351ba79",
   "metadata": {},
   "source": [
    "## Train Random Forest Classifier"
   ]
  },
  {
   "cell_type": "code",
   "execution_count": 20,
   "id": "7c19834b-ab06-4b46-9f3f-a1d112929615",
   "metadata": {},
   "outputs": [
    {
     "name": "stdout",
     "output_type": "stream",
     "text": [
      "Model trained successfully.\n"
     ]
    }
   ],
   "source": [
    "model = RandomForestClassifier(n_estimators=100, random_state=42, class_weight='balanced')\n",
    "model.fit(X_train, y_train)  # or use X_train_scaled if you scaled the data\n",
    "\n",
    "print(\"Model trained successfully.\")\n"
   ]
  },
  {
   "cell_type": "markdown",
   "id": "ba4a38d1-e34b-49fa-9cab-57f93584f011",
   "metadata": {},
   "source": [
    "## Make Predictions & Evaluate"
   ]
  },
  {
   "cell_type": "code",
   "execution_count": 21,
   "id": "9baf8535-0bb1-44e7-8901-15dda8c53bca",
   "metadata": {},
   "outputs": [
    {
     "name": "stdout",
     "output_type": "stream",
     "text": [
      "Classification Report:\n",
      "               precision    recall  f1-score   support\n",
      "\n",
      "           0       1.00      1.00      1.00   1906322\n",
      "           1       0.98      0.77      0.86      2464\n",
      "\n",
      "    accuracy                           1.00   1908786\n",
      "   macro avg       0.99      0.88      0.93   1908786\n",
      "weighted avg       1.00      1.00      1.00   1908786\n",
      "\n",
      "Confusion Matrix:\n",
      " [[1906288      34]\n",
      " [    573    1891]]\n",
      "ROC-AUC Score: 0.8837167316546883\n"
     ]
    }
   ],
   "source": [
    "y_pred = model.predict(X_test)\n",
    "\n",
    "print(\"Classification Report:\\n\", classification_report(y_test, y_pred))\n",
    "print(\"Confusion Matrix:\\n\", confusion_matrix(y_test, y_pred))\n",
    "print(\"ROC-AUC Score:\", roc_auc_score(y_test, y_pred))\n"
   ]
  },
  {
   "cell_type": "markdown",
   "id": "f0b095e9-610e-44d6-bdf7-2aa933e52ed4",
   "metadata": {},
   "source": [
    "## Plot ROC Curve"
   ]
  },
  {
   "cell_type": "code",
   "execution_count": 22,
   "id": "70c1c42c-1bb0-4e43-b9e4-11cf812f523c",
   "metadata": {},
   "outputs": [
    {
     "data": {
      "image/png": "[encoded data removed]",
      "text/plain": [
       "<Figure size 800x600 with 1 Axes>"
      ]
     },
     "metadata": {},
     "output_type": "display_data"
    }
   ],
   "source": [
    "y_probs = model.predict_proba(X_test)[:, 1]  # Get probability for class 1 (fraud)\n",
    "fpr, tpr, _ = roc_curve(y_test, y_probs)\n",
    "\n",
    "plt.figure(figsize=(8, 6))\n",
    "plt.plot(fpr, tpr, label='ROC Curve (AUC = {:.3f})'.format(roc_auc_score(y_test, y_probs)))\n",
    "plt.plot([0, 1], [0, 1], 'k--')\n",
    "plt.xlabel('False Positive Rate')\n",
    "plt.ylabel('True Positive Rate')\n",
    "plt.title('Receiver Operating Characteristic Curve')\n",
    "plt.legend()\n",
    "plt.grid(True)\n",
    "plt.show()\n"
   ]
  },
  {
   "cell_type": "markdown",
   "id": "fe21b4f2-240a-4935-9281-e0ecfb2ffecd",
   "metadata": {},
   "source": [
    "## Feature Importance Plot"
   ]
  },
  {
   "cell_type": "code",
   "execution_count": 24,
   "id": "378648ee-1bd1-49a9-b8ae-593bf0da1839",
   "metadata": {},
   "outputs": [
    {
     "name": "stderr",
     "output_type": "stream",
     "text": [
      "C:\\Users\\admin\\AppData\\Local\\Temp\\ipykernel_11540\\607923323.py:8: FutureWarning: \n",
      "\n",
      "Passing `palette` without assigning `hue` is deprecated and will be removed in v0.14.0. Assign the `y` variable to `hue` and set `legend=False` for the same effect.\n",
      "\n",
      "  sns.barplot(x='Importance', y='Feature', data=feat_df, hue=None, legend=False, palette='viridis')\n"
     ]
    },
    {
     "data": {
      "image/png": "[encoded data removed]",
      "text/plain": [
       "<Figure size 1000x600 with 1 Axes>"
      ]
     },
     "metadata": {},
     "output_type": "display_data"
    }
   ],
   "source": [
    "importances = model.feature_importances_\n",
    "features = X.columns\n",
    "\n",
    "feat_df = pd.DataFrame({'Feature': features, 'Importance': importances})\n",
    "feat_df = feat_df.sort_values(by='Importance', ascending=False)\n",
    "\n",
    "plt.figure(figsize=(10, 6))\n",
    "sns.barplot(x='Importance', y='Feature', data=feat_df, hue=None, legend=False, palette='viridis')\n",
    "plt.title('Feature Importance from Random Forest')\n",
    "plt.tight_layout()\n",
    "plt.show()\n"
   ]
  },
  {
   "cell_type": "markdown",
   "id": "91e5f1f7-eb3e-41d4-92a9-6475dd0adb9b",
   "metadata": {},
   "source": [
    "'''\n",
    "\n",
    "\n",
    "##  1. Data Cleaning (Missing values, outliers, multi-collinearity)\n",
    "\n",
    "* **Missing values**: Checked using `df.isnull().sum()`. No missing values were found in the dataset, so no imputation was necessary.\n",
    "* **Outliers**: Due to the highly skewed distribution of transaction amounts, we explored them using boxplots. However, since frauds often involve large transactions, we chose not to remove outliers to retain meaningful fraud signals.\n",
    "* **Multi-collinearity**: A correlation matrix revealed strong relationships between some balance columns (e.g., `oldbalanceOrg` and `newbalanceOrig`). However, as we used Random Forest (a tree-based model that handles collinearity well), we kept all features after checking that no pair had a perfect linear dependency.\n",
    "\n",
    "---\n",
    "\n",
    "## 2. Fraud Detection Model Description\n",
    "\n",
    "* We used a **Random Forest Classifier** with `class_weight='balanced'` to handle class imbalance (frauds are rare).\n",
    "* The model was trained on features like transaction type, amount, and account balances.\n",
    "* Hyperparameters were kept default for simplicity; however, tuning can be done using `GridSearchCV` if needed.\n",
    "* We avoided SMOTE or oversampling to keep the model simple and compatible with systems lacking `imblearn`.\n",
    "\n",
    "---\n",
    "\n",
    "## 3. Feature Selection Process\n",
    "\n",
    "* All features from the dataset (except `nameOrig`, `nameDest`, and `isFlaggedFraud`) were included after encoding the `type` column using `LabelEncoder`.\n",
    "* These features were chosen based on:\n",
    "\n",
    "  * **Business understanding** (balances and amounts are likely tied to fraud).\n",
    "  * **Data completeness** (no missing values).\n",
    "  * **Model compatibility** (Random Forests are robust to noisy features).\n",
    "* Feature importance analysis after training confirmed that key features were relevant (like `type`, `amount`, `oldbalanceOrg`).\n",
    "\n",
    "---\n",
    "\n",
    "## 4. Model Performance Evaluation\n",
    "\n",
    "* **Confusion Matrix**: Evaluated true/false positives and negatives.\n",
    "* **Classification Report**: Included precision, recall, F1-score — crucial due to imbalance.\n",
    "* **ROC-AUC Score**: Reported using `roc_auc_score()` — this measures how well the model distinguishes between fraud and non-fraud.\n",
    "* **ROC Curve**: Visualized model's performance across thresholds.\n",
    "* **Feature Importance**: Used `model.feature_importances_` and plotted top predictors.\n",
    "\n",
    "---\n",
    "\n",
    "## 5. Key Factors Predicting Fraudulent Transactions\n",
    "\n",
    "Top 3 predictors (based on feature importance):\n",
    "\n",
    "1. **Transaction type** (`type`): Most frauds were of type `TRANSFER` or `CASH_OUT`.\n",
    "2. **Transaction amount**: Large transactions are often associated with fraud.\n",
    "3. **Balance dynamics**: Changes between `oldbalanceOrg` and `newbalanceOrig` showed sudden drops, a sign of suspicious activity.\n",
    "\n",
    "---\n",
    "\n",
    "## 6. Do These Factors Make Sense?\n",
    "\n",
    "Yes, they make logical and business sense:\n",
    "\n",
    "* Fraudsters commonly use `TRANSFER` or `CASH_OUT` operations to move/withdraw money rapidly.\n",
    "* High transaction amounts increase risk and hence are more likely to be fraudulent.\n",
    "* Sudden account balance drops with no corresponding recipient balance increase often signal fraud (e.g., fraudulent transfers to non-existent accounts).\n",
    "\n",
    "---\n",
    "\n",
    "## 7. Recommended Infrastructure-Level Prevention Measures\n",
    "\n",
    "To reduce fraud risk, the company should:\n",
    "\n",
    "* **Implement real-time transaction monitoring** with machine learning alerts.\n",
    "* **Set transaction limits**, especially on `TRANSFER` or `CASH_OUT` operations.\n",
    "* **Deploy two-factor authentication** for high-risk actions.\n",
    "* **Monitor account behavior profiles** for anomalies (e.g., sudden large transfers).\n",
    "* **Maintain audit logs** and use anomaly detection systems for backend review.\n",
    "\n",
    "---\n",
    "\n",
    "## 8. How to Measure Effectiveness of Actions\n",
    "\n",
    "To evaluate if prevention strategies are working:\n",
    "\n",
    "* **Compare fraud rates** before and after implementation.\n",
    "* **Track model metrics** like precision, recall, and false positives over time.\n",
    "* **Conduct A/B testing**: Apply new rules to a subset of users and compare fraud rates.\n",
    "* **User feedback**: Monitor complaints or reversal requests related to unauthorized transactions.\n",
    "* **Model retraining**: Periodically retrain the model to adapt to new fraud patterns.\n",
    "'''\n"
   ]
  }
 ],
 "metadata": {
  "kernelspec": {
   "display_name": "Python 3 (ipykernel)",
   "language": "python",
   "name": "python3"
  },
  "language_info": {
   "codemirror_mode": {
    "name": "ipython",
    "version": 3
   },
   "file_extension": ".py",
   "mimetype": "text/x-python",
   "name": "python",
   "nbconvert_exporter": "python",
   "pygments_lexer": "ipython3",
   "version": "3.13.5"
  }
 },
 "nbformat": 4,
 "nbformat_minor": 5
}
